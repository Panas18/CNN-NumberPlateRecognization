{
 "cells": [
  {
   "cell_type": "code",
   "execution_count": 1,
   "metadata": {},
   "outputs": [],
   "source": [
    "import os"
   ]
  },
  {
   "cell_type": "code",
   "execution_count": 2,
   "metadata": {},
   "outputs": [],
   "source": [
    "image_dir = 'images'\n",
    "temp_file = 'temp.txt'\n",
    "data_file = 'dataset.csv'\n",
    "class_list = ['0', '1', '2', '3', '4', '5', '6', '7', '8', '9', 'ba', 'pa']"
   ]
  },
  {
   "cell_type": "code",
   "execution_count": 3,
   "metadata": {
    "scrolled": false
   },
   "outputs": [],
   "source": [
    "if os.path.isfile(data_file):\n",
    "    os.remove(data_file)\n",
    "    \n",
    "for class_value in class_list:\n",
    "    path  = os.path.join(image_dir, class_value)\n",
    "    \n",
    "    if class_value == 'ba':\n",
    "        class_value = '10'\n",
    "    elif class_value == 'pa':\n",
    "        class_value  = '11'\n",
    "        \n",
    "    if  os.path.isfile(temp_file):\n",
    "        os.remove(temp_file)\n",
    "    !ls $path > $temp_file\n",
    "    \n",
    "    with open(temp_file) as f:\n",
    "        img_list = [\n",
    "            img.replace(\"\\n\", \"\")\n",
    "            for img in f.readlines()\n",
    "        ]\n",
    "\n",
    "    with open(data_file, 'a') as f:\n",
    "        for img in img_list:\n",
    "            img_path = os.path.join(path, img)\n",
    "            f.write(img_path + ',' + class_value +'\\n')\n",
    "            \n",
    "os.remove(temp_file)"
   ]
  }
 ],
 "metadata": {
  "kernelspec": {
   "display_name": "Python 3.8.5 64-bit ('base': conda)",
   "language": "python",
   "name": "python385jvsc74a57bd00c8791e15965c70e700ff694838cb5fae34d6ba0799ebdf3ef5a2993d75d163f"
  },
  "language_info": {
   "codemirror_mode": {
    "name": "ipython",
    "version": 3
   },
   "file_extension": ".py",
   "mimetype": "text/x-python",
   "name": "python",
   "nbconvert_exporter": "python",
   "pygments_lexer": "ipython3",
   "version": "3.8.5"
  }
 },
 "nbformat": 4,
 "nbformat_minor": 4
}
